{
  "nbformat": 4,
  "nbformat_minor": 0,
  "metadata": {
    "colab": {
      "provenance": []
    },
    "kernelspec": {
      "name": "python3",
      "display_name": "Python 3"
    },
    "language_info": {
      "name": "python"
    }
  },
  "cells": [
    {
      "cell_type": "code",
      "execution_count": 13,
      "metadata": {
        "id": "FpxCtAycE4Ce"
      },
      "outputs": [],
      "source": [
        "import struct\n",
        "import numpy as np\n",
        "import matplotlib.pyplot as plt\n",
        "import os\n",
        "import pandas as pd"
      ]
    },
    {
      "cell_type": "code",
      "source": [
        "from sklearn.datasets import fetch_openml\n",
        "from sklearn.model_selection import train_test_split"
      ],
      "metadata": {
        "id": "yy4Bo_KrFg6O"
      },
      "execution_count": 3,
      "outputs": []
    },
    {
      "cell_type": "markdown",
      "source": [
        "### Load and Split the data as Train and Test set"
      ],
      "metadata": {
        "id": "P1_c_cn-G6rz"
      }
    },
    {
      "cell_type": "code",
      "source": [
        "# Load the MNIST dataset\n",
        "X, y = fetch_openml('mnist_784', version=1, return_X_y=True)\n",
        "\n",
        "# Normalize the pixel values\n",
        "X = X / 255.0\n",
        "\n",
        "# Split the Data into train and test sets\n",
        "X_train, X_test, y_train, y_test = train_test_split(X, y, test_size=0.2, random_state=42)\n"
      ],
      "metadata": {
        "colab": {
          "base_uri": "https://localhost:8080/"
        },
        "id": "WkPtBL4TFyhl",
        "outputId": "703a75fc-0f4f-4091-8cf1-f3edde2d9dbf"
      },
      "execution_count": 4,
      "outputs": [
        {
          "output_type": "stream",
          "name": "stderr",
          "text": [
            "/usr/local/lib/python3.10/dist-packages/sklearn/datasets/_openml.py:968: FutureWarning: The default value of `parser` will change from `'liac-arff'` to `'auto'` in 1.4. You can set `parser='auto'` to silence this warning. Therefore, an `ImportError` will be raised from 1.4 if the dataset is dense and pandas is not installed. Note that the pandas parser may return different data types. See the Notes Section in fetch_openml's API doc for details.\n",
            "  warn(\n"
          ]
        }
      ]
    },
    {
      "cell_type": "markdown",
      "source": [
        "### Exploratory Data Analysis\n",
        "\n",
        "\n"
      ],
      "metadata": {
        "id": "AwJrRs3mKlsj"
      }
    },
    {
      "cell_type": "code",
      "source": [
        "print(X_train.shape)\n",
        "print(X_train.info())\n",
        "print(X_train.head())"
      ],
      "metadata": {
        "colab": {
          "base_uri": "https://localhost:8080/"
        },
        "id": "AcG3KF2jOd3O",
        "outputId": "23696c4b-d2c3-4dd1-ffa3-68ce57338d78"
      },
      "execution_count": 16,
      "outputs": [
        {
          "output_type": "stream",
          "name": "stdout",
          "text": [
            "(56000, 784)\n",
            "<class 'pandas.core.frame.DataFrame'>\n",
            "Int64Index: 56000 entries, 47339 to 15795\n",
            "Columns: 784 entries, pixel1 to pixel784\n",
            "dtypes: float64(784)\n",
            "memory usage: 335.4 MB\n",
            "None\n",
            "       pixel1  pixel2  pixel3  pixel4  pixel5  pixel6  pixel7  pixel8  pixel9  \\\n",
            "47339     0.0     0.0     0.0     0.0     0.0     0.0     0.0     0.0     0.0   \n",
            "67456     0.0     0.0     0.0     0.0     0.0     0.0     0.0     0.0     0.0   \n",
            "12308     0.0     0.0     0.0     0.0     0.0     0.0     0.0     0.0     0.0   \n",
            "32557     0.0     0.0     0.0     0.0     0.0     0.0     0.0     0.0     0.0   \n",
            "664       0.0     0.0     0.0     0.0     0.0     0.0     0.0     0.0     0.0   \n",
            "\n",
            "       pixel10  ...  pixel775  pixel776  pixel777  pixel778  pixel779  \\\n",
            "47339      0.0  ...       0.0       0.0       0.0       0.0       0.0   \n",
            "67456      0.0  ...       0.0       0.0       0.0       0.0       0.0   \n",
            "12308      0.0  ...       0.0       0.0       0.0       0.0       0.0   \n",
            "32557      0.0  ...       0.0       0.0       0.0       0.0       0.0   \n",
            "664        0.0  ...       0.0       0.0       0.0       0.0       0.0   \n",
            "\n",
            "       pixel780  pixel781  pixel782  pixel783  pixel784  \n",
            "47339       0.0       0.0       0.0       0.0       0.0  \n",
            "67456       0.0       0.0       0.0       0.0       0.0  \n",
            "12308       0.0       0.0       0.0       0.0       0.0  \n",
            "32557       0.0       0.0       0.0       0.0       0.0  \n",
            "664         0.0       0.0       0.0       0.0       0.0  \n",
            "\n",
            "[5 rows x 784 columns]\n"
          ]
        }
      ]
    },
    {
      "cell_type": "code",
      "source": [
        "print(X_train.describe())"
      ],
      "metadata": {
        "colab": {
          "base_uri": "https://localhost:8080/"
        },
        "id": "8va4mZSJOkQc",
        "outputId": "a8410666-4d10-4959-88b6-468c86fb2014"
      },
      "execution_count": 17,
      "outputs": [
        {
          "output_type": "stream",
          "name": "stdout",
          "text": [
            "        pixel1   pixel2   pixel3   pixel4   pixel5   pixel6   pixel7   pixel8  \\\n",
            "count  56000.0  56000.0  56000.0  56000.0  56000.0  56000.0  56000.0  56000.0   \n",
            "mean       0.0      0.0      0.0      0.0      0.0      0.0      0.0      0.0   \n",
            "std        0.0      0.0      0.0      0.0      0.0      0.0      0.0      0.0   \n",
            "min        0.0      0.0      0.0      0.0      0.0      0.0      0.0      0.0   \n",
            "25%        0.0      0.0      0.0      0.0      0.0      0.0      0.0      0.0   \n",
            "50%        0.0      0.0      0.0      0.0      0.0      0.0      0.0      0.0   \n",
            "75%        0.0      0.0      0.0      0.0      0.0      0.0      0.0      0.0   \n",
            "max        0.0      0.0      0.0      0.0      0.0      0.0      0.0      0.0   \n",
            "\n",
            "        pixel9  pixel10  ...      pixel775      pixel776      pixel777  \\\n",
            "count  56000.0  56000.0  ...  56000.000000  56000.000000  56000.000000   \n",
            "mean       0.0      0.0  ...      0.000753      0.000382      0.000152   \n",
            "std        0.0      0.0  ...      0.023040      0.016359      0.009830   \n",
            "min        0.0      0.0  ...      0.000000      0.000000      0.000000   \n",
            "25%        0.0      0.0  ...      0.000000      0.000000      0.000000   \n",
            "50%        0.0      0.0  ...      0.000000      0.000000      0.000000   \n",
            "75%        0.0      0.0  ...      0.000000      0.000000      0.000000   \n",
            "max        0.0      0.0  ...      0.996078      0.992157      0.992157   \n",
            "\n",
            "           pixel778      pixel779      pixel780  pixel781  pixel782  pixel783  \\\n",
            "count  56000.000000  56000.000000  56000.000000   56000.0   56000.0   56000.0   \n",
            "mean       0.000058      0.000046      0.000004       0.0       0.0       0.0   \n",
            "std        0.006229      0.005357      0.001027       0.0       0.0       0.0   \n",
            "min        0.000000      0.000000      0.000000       0.0       0.0       0.0   \n",
            "25%        0.000000      0.000000      0.000000       0.0       0.0       0.0   \n",
            "50%        0.000000      0.000000      0.000000       0.0       0.0       0.0   \n",
            "75%        0.000000      0.000000      0.000000       0.0       0.0       0.0   \n",
            "max        0.992157      0.956863      0.243137       0.0       0.0       0.0   \n",
            "\n",
            "       pixel784  \n",
            "count   56000.0  \n",
            "mean        0.0  \n",
            "std         0.0  \n",
            "min         0.0  \n",
            "25%         0.0  \n",
            "50%         0.0  \n",
            "75%         0.0  \n",
            "max         0.0  \n",
            "\n",
            "[8 rows x 784 columns]\n"
          ]
        }
      ]
    },
    {
      "cell_type": "code",
      "source": [
        "print(X_train.isnull().sum())"
      ],
      "metadata": {
        "colab": {
          "base_uri": "https://localhost:8080/"
        },
        "id": "zSZB12IEOs5t",
        "outputId": "93d67c8b-698d-4d06-91bd-12ac42c4dd02"
      },
      "execution_count": 18,
      "outputs": [
        {
          "output_type": "stream",
          "name": "stdout",
          "text": [
            "pixel1      0\n",
            "pixel2      0\n",
            "pixel3      0\n",
            "pixel4      0\n",
            "pixel5      0\n",
            "           ..\n",
            "pixel780    0\n",
            "pixel781    0\n",
            "pixel782    0\n",
            "pixel783    0\n",
            "pixel784    0\n",
            "Length: 784, dtype: int64\n"
          ]
        }
      ]
    },
    {
      "cell_type": "code",
      "source": [
        "def visualize(df, index = 0):\n",
        "  image = df.iloc[index].values\n",
        "  # Reshape the image to be a 28x28 matrix (from a flat, 784-length array)\n",
        "  image = image.reshape(28, 28)\n",
        "  # Use imshow to display the image\n",
        "  plt.imshow(image, cmap='gray')\n",
        "  plt.show()\n",
        "\n",
        "\n",
        "\n",
        "\n"
      ],
      "metadata": {
        "id": "BoaLUDehILiQ"
      },
      "execution_count": 14,
      "outputs": []
    },
    {
      "cell_type": "code",
      "source": [
        "visualize(X_train, 0)"
      ],
      "metadata": {
        "colab": {
          "base_uri": "https://localhost:8080/",
          "height": 430
        },
        "id": "FPAvuuKyKc2w",
        "outputId": "ff301d60-79a7-42e7-c40c-c6afeb377b05"
      },
      "execution_count": 15,
      "outputs": [
        {
          "output_type": "display_data",
          "data": {
            "text/plain": [
              "<Figure size 640x480 with 1 Axes>"
            ],
            "image/png": "[encoded data removed]"
          },
          "metadata": {}
        }
      ]
    },
    {
      "cell_type": "code",
      "source": [
        "import seaborn as sns\n",
        "\n",
        "# check the labels distribution\n",
        "labels = pd.Series(y_train)\n",
        "\n",
        "# Plot the distribution of labels\n",
        "sns.countplot(x=labels)\n",
        "plt.title('Distribution of Labels')\n",
        "plt.xlabel('Label')\n",
        "plt.ylabel('Count')\n",
        "plt.show()"
      ],
      "metadata": {
        "colab": {
          "base_uri": "https://localhost:8080/",
          "height": 472
        },
        "id": "3L3sFfd9JOIr",
        "outputId": "5d992a58-dc9c-4408-962b-2ddbdecf8471"
      },
      "execution_count": 20,
      "outputs": [
        {
          "output_type": "display_data",
          "data": {
            "text/plain": [
              "<Figure size 640x480 with 1 Axes>"
            ],
            "image/png": "[encoded data removed]"
          },
          "metadata": {}
        }
      ]
    },
    {
      "cell_type": "code",
      "source": [],
      "metadata": {
        "id": "PlEUIjtFOy3x"
      },
      "execution_count": null,
      "outputs": []
    },
    {
      "cell_type": "markdown",
      "source": [
        "## Model Initialization\n",
        "\n",
        "Remember We want to create a neural network to approximate the classification mapping, we want to set the input as X_train with the dimension (28, 28) now flatten to a Vector 784, we will then build up the layer using this Neuon(Weight and bias).  I also add He normal initialization."
      ],
      "metadata": {
        "id": "oXg-PEYLP_0K"
      }
    },
    {
      "cell_type": "code",
      "source": [
        "# Initialize weights and biases for the first layer\n",
        "W1 = np.random.randn(784, 128) * np.sqrt(2. / 784)\n",
        "b1 = np.zeros((1, 128))\n",
        "\n",
        "# Initialize weights and biases for the second layer\n",
        "W2 = np.random.randn(128, 10) * np.sqrt(2. / 128)\n",
        "b2 = np.zeros((1, 10))"
      ],
      "metadata": {
        "id": "dzqZ7FEFRfTH"
      },
      "execution_count": null,
      "outputs": []
    },
    {
      "cell_type": "markdown",
      "source": [
        "### Activation Functions"
      ],
      "metadata": {
        "id": "yZX1MeA7RnIK"
      }
    },
    {
      "cell_type": "code",
      "source": [
        "def relu(x):\n",
        "  return np.maximum(0, x)"
      ],
      "metadata": {
        "id": "i0UlFLeGRqa3"
      },
      "execution_count": 28,
      "outputs": []
    },
    {
      "cell_type": "code",
      "source": [
        "def softmax(x):\n",
        "    e_x = np.exp(x - np.max(x))  # subtract max for numerical stability\n",
        "    return e_x / e_x.sum(axis=1, keepdims=True)\n"
      ],
      "metadata": {
        "id": "WYBjyiqXSaee"
      },
      "execution_count": 30,
      "outputs": []
    },
    {
      "cell_type": "markdown",
      "source": [
        "## Forward Propagation\n",
        "\n",
        "The forward propagation step involves passing the input through the network and computing the output. Here's a simple example of how you might implement this for a feedforward neural network with one hidden layer:"
      ],
      "metadata": {
        "id": "0ISgZUrPWjXY"
      }
    },
    {
      "cell_type": "code",
      "source": [
        "def forward_propagation(X, W1, b1, W2, b2):\n",
        "  # Compute the output of the first layer\n",
        "    Z1 = np.dot(X, W1) + b1\n",
        "    A1 = relu(Z1)\n",
        "\n",
        "    # Compute the output of the second layer\n",
        "    Z2 = np.dot(A1, W2) + b2\n",
        "    A2 = softmax(Z2)\n",
        "\n",
        "    return Z1, A1, Z2, A2  # we need all to calculate in backward propagation\n"
      ],
      "metadata": {
        "id": "akUrkxp-WuW9"
      },
      "execution_count": 31,
      "outputs": []
    },
    {
      "cell_type": "code",
      "source": [],
      "metadata": {
        "id": "xpC7dbVAb5Ft"
      },
      "execution_count": null,
      "outputs": []
    },
    {
      "cell_type": "markdown",
      "source": [
        "### Loss Computation\n",
        "Then I need to calculate the Loss function, so that i can further use it for update the network weight and bias"
      ],
      "metadata": {
        "id": "HZtmqnuJcB6E"
      }
    },
    {
      "cell_type": "code",
      "source": [
        "def cross_entropy_loss(y_pred, y_true):\n",
        "    n_samples = y_true.shape[0]\n",
        "    logp = - np.log(y_pred[np.arange(n_samples), y_true.argmax(axis=1)])\n",
        "    loss = np.sum(logp)/n_samples\n",
        "    return loss\n"
      ],
      "metadata": {
        "id": "MFP_xNUGcPl7"
      },
      "execution_count": 32,
      "outputs": []
    },
    {
      "cell_type": "code",
      "source": [],
      "metadata": {
        "id": "1tVKjw2KcYnq"
      },
      "execution_count": null,
      "outputs": []
    },
    {
      "cell_type": "markdown",
      "source": [
        "### Backward Propagation\n",
        "To calculate the gradient of the loss function, propagate backward using the chain rule.\n",
        "\n",
        "an recap of the forward propagation the I have is :\n",
        "Z1 = X * W1 + b1\n",
        "A1 = activation(Z1)\n",
        "Z2 = A1 * W2 + b2\n",
        "A2 = softmax(Z2)\n",
        "\n",
        "\n",
        "so the backward propagation step computes the gradients of the loss L with respect to W1, b1, W2, and b2. The chain rule of calculus is used to compute these gradients in a step-by-step manner."
      ],
      "metadata": {
        "id": "oEiychf-dn6L"
      }
    },
    {
      "cell_type": "code",
      "source": [
        "def relu_derivative(x):\n",
        "    return np.where(x > 0, 1, 0)\n",
        "\n",
        "def backward_propagation(X, Y, W1, b1, W2, b2, Z1, A1, Z2, A2):\n",
        "    m = X.shape[0]\n",
        "\n",
        "    # Compute the derivative of the loss with respect to Z2\n",
        "    dZ2 = A2 - Y\n",
        "\n",
        "    # Compute the derivative of the loss with respect to W2 and b2\n",
        "    dW2 = 1/m * np.dot(A1.T, dZ2)\n",
        "    db2 = 1/m * np.sum(dZ2, axis=0, keepdims=True)\n",
        "\n",
        "    # Compute the derivative of the loss with respect to Z1\n",
        "    dZ1 = np.dot(dZ2, W2.T) * relu_derivative(Z1)\n",
        "\n",
        "    # Compute the derivative of the loss with respect to W1 and b1\n",
        "    dW1 = 1/m * np.dot(X.T, dZ1)\n",
        "    db1 = 1/m * np.sum(dZ1, axis=0, keepdims=True)\n",
        "\n",
        "    return dW1, db1, dW2, db2"
      ],
      "metadata": {
        "id": "KCDGnp8td64o"
      },
      "execution_count": null,
      "outputs": []
    },
    {
      "cell_type": "markdown",
      "source": [
        "### Gradient descent\n",
        "\n",
        "Update the Weight and bias for the next episode."
      ],
      "metadata": {
        "id": "7ZFTldqitisd"
      }
    },
    {
      "cell_type": "code",
      "source": [
        "def gradient_descent_update(W1, b1, W2, b2, dW1, db1, dW2, db2, learning_rate):\n",
        "    W1 = W1 - learning_rate * dW1\n",
        "    b1 = b1 - learning_rate * db1\n",
        "    W2 = W2 - learning_rate * dW2\n",
        "    b2 = b2 - learning_rate * db2\n",
        "    return W1, b1, W2, b2"
      ],
      "metadata": {
        "id": "uZZX-cKgt2KX"
      },
      "execution_count": null,
      "outputs": []
    },
    {
      "cell_type": "markdown",
      "source": [
        "### Training Loop\n",
        "\n",
        "So, for now, all the main function for the training has been ready, we can feed the data into the network for the training."
      ],
      "metadata": {
        "id": "YJl3_Qqat-iQ"
      }
    },
    {
      "cell_type": "code",
      "source": [
        "def train(X_train, Y_train, W1, b1, W2, b2, learning_rate, epochs):\n",
        "    for epoch in range(epochs):\n",
        "        # Forward propagation\n",
        "        Z1, A1, Z2, A2 = forward_propagation(X_train, W1, b1, W2, b2)\n",
        "\n",
        "        # Compute loss\n",
        "        loss = cross_entropy_loss(A2, Y_train)\n",
        "\n",
        "        # Backward propagation\n",
        "        dW1, db1, dW2, db2 = backward_propagation(X_train, Y_train, W1, b1, W2, b2, Z1, A1, Z2, A2)\n",
        "\n",
        "        # Gradient descent update\n",
        "        W1, b1, W2, b2 = gradient_descent_update(W1, b1, W2, b2, dW1, db1, dW2, db2, learning_rate)\n",
        "\n",
        "        # Print loss every 100 epochs\n",
        "        if epoch % 100 == 0:\n",
        "            print(f'Loss at epoch {epoch}: {loss}')\n",
        "\n",
        "    return W1, b1, W2, b2\n"
      ],
      "metadata": {
        "id": "aw893slWufWl"
      },
      "execution_count": null,
      "outputs": []
    },
    {
      "cell_type": "code",
      "source": [
        "# Set learning rate and number of epochs\n",
        "learning_rate = 0.01\n",
        "epochs = 1000\n",
        "\n",
        "# Start the training loop\n",
        "W1, b1, W2, b2 = train(X_train, Y_train, W1, b1, W2, b2, learning_rate, epochs)"
      ],
      "metadata": {
        "id": "NPBZ_oVDu3gg"
      },
      "execution_count": null,
      "outputs": []
    },
    {
      "cell_type": "markdown",
      "source": [],
      "metadata": {
        "id": "Q4t9Wz9svLac"
      }
    },
    {
      "cell_type": "markdown",
      "source": [
        "### Evaluation"
      ],
      "metadata": {
        "id": "jTRhWcCov5ZB"
      }
    },
    {
      "cell_type": "code",
      "source": [
        "def evaluate(X_test, Y_test, W1, b1, W2, b2):\n",
        "    # Forward propagation\n",
        "    _, _, _, A2 = forward_propagation(X_test, W1, b1, W2, b2)\n",
        "\n",
        "    # Compute predictions\n",
        "    predictions = np.argmax(A2, axis=1)\n",
        "\n",
        "    # Compute true labels\n",
        "    true_labels = np.argmax(Y_test, axis=1)\n",
        "\n",
        "    # Compute accuracy\n",
        "    accuracy = np.mean(predictions == true_labels)\n",
        "\n",
        "    return accuracy\n"
      ],
      "metadata": {
        "id": "rWaqEIVpv9Le"
      },
      "execution_count": null,
      "outputs": []
    },
    {
      "cell_type": "code",
      "source": [
        "accuracy = evaluate(X_test, Y_test, W1, b1, W2, b2)\n",
        "print(f'Test accuracy: {accuracy}')"
      ],
      "metadata": {
        "id": "OLRJ4mFVwIzp"
      },
      "execution_count": null,
      "outputs": []
    }
  ]
}